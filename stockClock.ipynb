{
 "cells": [
  {
   "cell_type": "code",
   "execution_count": 1,
   "metadata": {
    "collapsed": true
   },
   "outputs": [],
   "source": [
    "import datetime as dt\n",
    "import matplotlib.pyplot as plt\n",
    "from matplotlib import style\n",
    "import pandas as pd\n",
    "import pandas_datareader.data as web\n",
    "from openpyxl import Workbook\n",
    "wb = Workbook()\n",
    "ws = wb.active"
   ]
  },
  {
   "cell_type": "code",
   "execution_count": 2,
   "metadata": {
    "collapsed": true
   },
   "outputs": [],
   "source": [
    "def stockClock(stock): \n",
    "    #stock must be a str\n",
    "    assert type(stock)==str \n",
    "    \n",
    "    style.use('ggplot')\n",
    "    start = dt.datetime(2018, 5, 1)\n",
    "    end = dt.datetime.now()\n",
    "    \n",
    "    df = web.DataReader(stock, 'morningstar', start)\n",
    "    df=str(df)\n",
    "    df[:].index(\"01\")\n",
    "    price = df[df.index(stock):]\n",
    "    price=price[price.index(\"-\")+8:price.index(\"-\")+15]\n",
    "    ws['A1'] = \"Stock Name\"\n",
    "    ws['B1'] = \"Price\"\n",
    "    ws.append([stock,price]) \n",
    "    wb.save(\"stockClock.xlsx\")"
   ]
  },
  {
   "cell_type": "code",
   "execution_count": 4,
   "metadata": {},
   "outputs": [],
   "source": [
    "stockClock(\"AAPL\")\n",
    "stockClock(\"NVDA\")\n",
    "stockClock(\"AMZN\")\n",
    "stockClock(\"GPRO\")\n",
    "stockClock(\"IBM\")"
   ]
  },
  {
   "cell_type": "code",
   "execution_count": null,
   "metadata": {
    "collapsed": true
   },
   "outputs": [],
   "source": []
  }
 ],
 "metadata": {
  "kernelspec": {
   "display_name": "Python 3",
   "language": "python",
   "name": "python3"
  },
  "language_info": {
   "codemirror_mode": {
    "name": "ipython",
    "version": 3
   },
   "file_extension": ".py",
   "mimetype": "text/x-python",
   "name": "python",
   "nbconvert_exporter": "python",
   "pygments_lexer": "ipython3",
   "version": "3.6.1"
  }
 },
 "nbformat": 4,
 "nbformat_minor": 2
}
